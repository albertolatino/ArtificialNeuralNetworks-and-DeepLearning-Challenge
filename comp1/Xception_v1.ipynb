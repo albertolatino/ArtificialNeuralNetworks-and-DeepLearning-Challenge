{
  "nbformat": 4,
  "nbformat_minor": 0,
  "metadata": {
    "colab": {
      "name": "comp1_Xception.ipynb",
      "provenance": [],
      "collapsed_sections": []
    },
    "kernelspec": {
      "display_name": "Python 3",
      "language": "python",
      "name": "python3"
    },
    "language_info": {
      "name": ""
    },
    "accelerator": "GPU"
  },
  "cells": [
    {
      "cell_type": "code",
      "metadata": {
        "id": "jGKfaEUD3r9F"
      },
      "source": [
        "from IPython.core.interactiveshell import InteractiveShell\n",
        "InteractiveShell.ast_node_interactivity = \"all\""
      ],
      "execution_count": null,
      "outputs": []
    },
    {
      "cell_type": "code",
      "metadata": {
        "id": "9PfKgPyr4kLW"
      },
      "source": [
        "import os\n",
        "import json \n",
        "import tensorflow as tf\n",
        "from tensorflow.keras.preprocessing.image import ImageDataGenerator\n",
        "import numpy as np\n",
        "import pandas as pd\n",
        "from sklearn.model_selection import train_test_split\n",
        "from datetime import datetime\n",
        "from keras.applications.vgg16 import preprocess_input \n",
        "\n",
        "SEED = 1234\n",
        "tf.random.set_seed(SEED)  \n",
        "\n",
        "# Get current working directory\n",
        "cwd = os.getcwd()"
      ],
      "execution_count": null,
      "outputs": []
    },
    {
      "cell_type": "code",
      "metadata": {
        "id": "lgSPHH61xN-V"
      },
      "source": [
        "def create_csv(results, results_dir='/content/drive/My Drive/DeepLearning'):\n",
        "\n",
        "    csv_fname = 'results_'\n",
        "    csv_fname += datetime.now().strftime('%b%d_%H-%M-%S') + '.csv'\n",
        "\n",
        "    with open(os.path.join(results_dir, csv_fname), 'w') as f:\n",
        "\n",
        "        f.write('Id,Category\\n')\n",
        "\n",
        "        for key, value in results.items():\n",
        "            f.write(key + ',' + str(value) + '\\n')\n",
        "            print(\"writing \"+ key + ',' + str(value) + '\\n')\n"
      ],
      "execution_count": null,
      "outputs": []
    },
    {
      "cell_type": "code",
      "metadata": {
        "id": "--TnW3ZB9JvG"
      },
      "source": [
        "# Run this cell only if you are using Colab with Drive\n",
        "from google.colab import drive\n",
        "drive.mount('/content/drive')"
      ],
      "execution_count": null,
      "outputs": []
    },
    {
      "cell_type": "code",
      "metadata": {
        "id": "sM5u-Scr9UaF"
      },
      "source": [
        "# Run this cell only if you are using Colab with Drive\n",
        "!unzip '/content/drive/My Drive/DeepLearning/kaggle/data/artificial-neural-networks-and-deep-learning-2020.zip'"
      ],
      "execution_count": null,
      "outputs": []
    },
    {
      "cell_type": "code",
      "metadata": {
        "id": "GzUC1FpdIDRa"
      },
      "source": [
        "labels_dir = os.path.join(cwd, 'MaskDataset')\n",
        "training_dir = os.path.join(cwd, 'MaskDataset/training')\n",
        "\n",
        "bs = 8 \n",
        "img_h = img_w = 512\n",
        "\n",
        "with open(os.path.join(labels_dir, \"train_gt.json\")) as f:\n",
        "  dic = json.load(f)\n",
        "labels = pd.DataFrame(dic.items())\n",
        "labels.rename(columns = {0:'filename', 1:'class'}, inplace = True)\n",
        "labels[\"class\"] = labels[\"class\"].astype(str)\n",
        "\n",
        "# Create training ImageDataGenerator object\n",
        "\n",
        "\n",
        "tl, vl = train_test_split(labels, test_size=0.20, random_state=SEED)\n",
        "\n",
        "tl.values[0]\n",
        "\n",
        "apply_data_augmentation = True\n",
        "\n",
        "if apply_data_augmentation: #uscivano immagini a pallini con data aug ora colorate a causa di preproc da solo\n",
        "    train_data_gen = ImageDataGenerator(rotation_range=30,\n",
        "                                        width_shift_range=5,\n",
        "                                        height_shift_range=5,\n",
        "                                        zoom_range=0.2,\n",
        "                                        horizontal_flip=True,\n",
        "                                        vertical_flip=True,\n",
        "                                        fill_mode='constant',\n",
        "                                        cval=0,\n",
        "                                        rescale=1./255                                     \n",
        "                                        )\n",
        "else :   \n",
        "    train_data_gen = ImageDataGenerator(rescale=1./255)\n",
        "\n",
        "valid_gen = ImageDataGenerator(rescale=1./255)"
      ],
      "execution_count": null,
      "outputs": []
    },
    {
      "cell_type": "code",
      "metadata": {
        "id": "jd0D3_gkbd5B"
      },
      "source": [
        "train_generator = train_data_gen.flow_from_dataframe(tl,\n",
        "                                               training_dir,\n",
        "                                               batch_size=bs,\n",
        "                                               color_mode='rgb',\n",
        "                                               class_mode='categorical',\n",
        "                                               shuffle=True,\n",
        "                                               seed=SEED,\n",
        "                                               target_size=(img_h, img_w)\n",
        "                                               )\n",
        "\n",
        "valid_generator = valid_gen.flow_from_dataframe(vl,training_dir,batch_size=bs, \n",
        "                                               class_mode='categorical',\n",
        "                                               color_mode='rgb',\n",
        "                                               shuffle=False,\n",
        "                                               seed=SEED,\n",
        "                                               target_size=(img_h, img_w)\n",
        "                                               )\n",
        "\n",
        "\n",
        "\n",
        "#valid_data_gen = ImageDataGenerator(preprocessing_function=preprocess_input)"
      ],
      "execution_count": null,
      "outputs": []
    },
    {
      "cell_type": "code",
      "metadata": {
        "id": "KeocnQ_WXRfH"
      },
      "source": [
        "num_classes = 3\n",
        "\n",
        "\n",
        "#TRAIN\n",
        "train_dataset = tf.data.Dataset.from_generator(lambda: train_generator,\n",
        "                                               output_types=(tf.float32, tf.float32),\n",
        "                                               output_shapes=([None, img_h, img_w, 3], [None, num_classes])\n",
        "                                               )\n",
        "train_dataset = train_dataset.repeat()\n",
        "\n",
        "#VALID\n",
        "valid_dataset = tf.data.Dataset.from_generator(lambda: valid_generator,\n",
        "                                               output_types=(tf.float32, tf.float32),\n",
        "                                               output_shapes=([None, img_h, img_w, 3], [None, num_classes])\n",
        "                                               )\n",
        "valid_dataset = valid_dataset.repeat()\n"
      ],
      "execution_count": null,
      "outputs": []
    },
    {
      "cell_type": "code",
      "metadata": {
        "id": "zh-8Es98Z8hQ"
      },
      "source": [
        "# Let's test data augmentation\n",
        "# ----------------------------\n",
        "import time\n",
        "import matplotlib.pyplot as plt\n",
        "\n",
        "%matplotlib inline\n",
        "    \n",
        "iterator = iter(train_dataset)"
      ],
      "execution_count": null,
      "outputs": []
    },
    {
      "cell_type": "code",
      "metadata": {
        "id": "Tdapk1QeaABH"
      },
      "source": [
        "augmented_img, target = next(iterator)\n",
        "augmented_img = np.array(augmented_img[0])   # First element\n",
        "augmented_img = augmented_img * 255  # denormalize\n",
        "   \n",
        "plt.imshow(np.uint8(augmented_img))\n",
        "# fig.canvas.draw()\n",
        "plt.plot()"
      ],
      "execution_count": null,
      "outputs": []
    },
    {
      "cell_type": "code",
      "metadata": {
        "id": "VqTCXPPT9q9f"
      },
      "source": [
        "# Load VGG16 Model\n",
        "\n",
        "vgg = tf.keras.applications.Xception(weights='imagenet', include_top=False, input_shape=(img_h, img_w, 3))"
      ],
      "execution_count": null,
      "outputs": []
    },
    {
      "cell_type": "code",
      "metadata": {
        "id": "6aRFG_Kp9u6f"
      },
      "source": [
        "vgg.summary()"
      ],
      "execution_count": null,
      "outputs": []
    },
    {
      "cell_type": "code",
      "metadata": {
        "id": "s6OSRfsv-BWL"
      },
      "source": [
        "# Create Model\n",
        "# ------------\n",
        "\n",
        "finetuning = True\n",
        "\n",
        "if finetuning:\n",
        "    freeze_until = 15 # layer from which we want to fine-tune\n",
        "    \n",
        "    for layer in vgg.layers[:freeze_until]:\n",
        "        layer.trainable = False\n",
        "else:\n",
        "    vgg.trainable = False\n",
        "    \n",
        "model = tf.keras.Sequential()\n",
        "model.add(vgg)\n",
        "model.add(tf.keras.layers.Dropout(0.2))\n",
        "model.add(tf.keras.layers.Flatten())\n",
        "model.add(tf.keras.layers.Dense(units=512, activation='relu'))\n",
        "model.add(tf.keras.layers.Dense(units=num_classes, activation='softmax'))"
      ],
      "execution_count": null,
      "outputs": []
    },
    {
      "cell_type": "code",
      "metadata": {
        "id": "861CrLRO-Q6i"
      },
      "source": [
        "# Visualize created model as a table\n",
        "model.summary()\n",
        "\n",
        "# Visualize initialized weights\n",
        "#model.weights"
      ],
      "execution_count": null,
      "outputs": []
    },
    {
      "cell_type": "code",
      "metadata": {
        "id": "k6fX2MeR-U48"
      },
      "source": [
        "# Optimization params\n",
        "# -------------------\n",
        "\n",
        "# Loss\n",
        "loss = tf.keras.losses.CategoricalCrossentropy()\n",
        "\n",
        "# learning rate\n",
        "lr = 2e-5\n",
        "optimizer = tf.keras.optimizers.Adam(learning_rate=lr)\n",
        "# -------------------\n",
        "\n",
        "# Validation metrics\n",
        "# ------------------\n",
        "\n",
        "metrics = ['accuracy']\n",
        "# ------------------\n",
        "\n",
        "# Compile Model\n",
        "model.compile(optimizer=optimizer, loss=loss, metrics=metrics)"
      ],
      "execution_count": null,
      "outputs": []
    },
    {
      "cell_type": "code",
      "metadata": {
        "id": "gpQajwkDHQfP"
      },
      "source": [
        "#%load_ext tensorboard\n",
        "\n",
        "#%reload_ext tensorboard\n",
        "#%tensorboard --logdir /content/drive/My\\ Drive/DeepLearning/kaggle/tensorboard #fix here"
      ],
      "execution_count": null,
      "outputs": []
    },
    {
      "cell_type": "code",
      "metadata": {
        "id": "lzpRKbkJ-bea"
      },
      "source": [
        "import os\n",
        "from datetime import datetime\n",
        "\n",
        "\n",
        "cwd = os.getcwd()\n",
        "\n",
        "exps_dir = os.path.join('/content/drive/My Drive/DeepLearning/kaggle', 'tensorboard')\n",
        "if not os.path.exists(exps_dir):\n",
        "    os.makedirs(exps_dir)\n",
        "\n",
        "now = datetime.now().strftime('%b%d_%H-%M-%S')\n",
        "\n",
        "model_name = 'CNN'\n",
        "\n",
        "exp_dir = os.path.join(exps_dir, model_name + '_' + str(now))\n",
        "if not os.path.exists(exp_dir):\n",
        "    os.makedirs(exp_dir)\n",
        "    \n",
        "callbacks = []\n",
        "\n",
        "# Model checkpoint\n",
        "# ----------------\n",
        "ckpt_dir = os.path.join(exp_dir, 'ckpts')\n",
        "if not os.path.exists(ckpt_dir):\n",
        "    os.makedirs(ckpt_dir)\n",
        "\n",
        "ckpt_callback = tf.keras.callbacks.ModelCheckpoint(filepath=os.path.join(ckpt_dir, 'cp_{epoch:02d}.ckpt'), \n",
        "                                                   save_weights_only=True)  # False to save the model directly\n",
        "callbacks.append(ckpt_callback)\n",
        "\n",
        "# Visualize Learning on Tensorboard\n",
        "# ---------------------------------\n",
        "tb_dir = os.path.join(exp_dir, 'tb_logs')\n",
        "if not os.path.exists(tb_dir):\n",
        "    os.makedirs(tb_dir)\n",
        "    \n",
        "# By default shows losses and metrics for both training and validation\n",
        "tb_callback = tf.keras.callbacks.TensorBoard(log_dir=tb_dir,\n",
        "                                             profile_batch=0,\n",
        "                                             histogram_freq=1)  # if 1 shows weights histograms\n",
        "callbacks.append(tb_callback)\n",
        "\n",
        "# Early Stopping\n",
        "# --------------\n",
        "early_stop = True\n",
        "if early_stop:\n",
        "    es_callback = tf.keras.callbacks.EarlyStopping(monitor='val_loss', patience=5)\n",
        "    callbacks.append(es_callback)"
      ],
      "execution_count": null,
      "outputs": []
    },
    {
      "cell_type": "code",
      "metadata": {
        "id": "vXIyUmyR8cxS"
      },
      "source": [
        "train_dataset"
      ],
      "execution_count": null,
      "outputs": []
    },
    {
      "cell_type": "code",
      "metadata": {
        "id": "5b_KC7_6y0vl"
      },
      "source": [
        "model.fit(x=train_dataset,\n",
        "          epochs=100,  #### set repeat in training dataset\n",
        "          steps_per_epoch=len(train_generator),\n",
        "          validation_data=valid_dataset,\n",
        "          validation_steps=len(valid_generator),\n",
        "          callbacks=callbacks\n",
        "          )\n",
        "\n",
        "# How to visualize Tensorboard\n",
        "\n",
        "# 1. tensorboard --logdir EXPERIMENTS_DIR --port PORT     <- from terminal\n",
        "# 2. localhost:PORT   <- in your browser"
      ],
      "execution_count": null,
      "outputs": []
    },
    {
      "cell_type": "code",
      "metadata": {
        "id": "qQ743X0Geu5v"
      },
      "source": [
        "# Let's visualize the activations of our network\n",
        "from PIL import Image\n",
        "\n",
        "test_iter = iter(valid_dataset)\n",
        "\n",
        "# Get a test image\n",
        "test_img = next(test_iter)[0]\n",
        "test_img = test_img[0]\n",
        "\n",
        "# Visualize the image\n",
        "Image.fromarray(np.uint8(np.array(test_img)*255.))"
      ],
      "execution_count": null,
      "outputs": []
    },
    {
      "cell_type": "code",
      "metadata": {
        "id": "-NRgCaAW08lm"
      },
      "source": [
        "test_dir = os.path.join(cwd, 'MaskDataset/test')\n",
        "image_filenames = next(os.walk(test_dir))[2]\n",
        "\n",
        "results = {}\n",
        "for image_name in image_filenames:\n",
        "\n",
        "   img = Image.open(os.path.join(test_dir,image_name)).convert('RGB')\n",
        "   img = img.resize((512, 512))\n",
        "   img_array = np.array(img)\n",
        "   img_array = np.expand_dims(img_array, 0) \n",
        "\n",
        "   out_softmax = model.predict(x=img_array / 255.)\n",
        "   prediction = tf.argmax(out_softmax,1)  # predicted class\n",
        "   print(prediction.numpy()[0])\n",
        "\n",
        "   results[image_name] = prediction.numpy()[0]"
      ],
      "execution_count": null,
      "outputs": []
    },
    {
      "cell_type": "code",
      "metadata": {
        "id": "TfXL8R8VggR_"
      },
      "source": [
        "create_csv(results)"
      ],
      "execution_count": null,
      "outputs": []
    },
    {
      "cell_type": "code",
      "metadata": {
        "id": "xEdqFcY_kM4e"
      },
      "source": [
        ""
      ],
      "execution_count": null,
      "outputs": []
    }
  ]
}