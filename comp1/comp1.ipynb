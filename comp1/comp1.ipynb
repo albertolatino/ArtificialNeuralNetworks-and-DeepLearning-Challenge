{
  "nbformat": 4,
  "nbformat_minor": 0,
  "metadata": {
    "colab": {
      "name": "comp1.ipynb",
      "provenance": [],
      "collapsed_sections": []
    },
    "kernelspec": {
      "display_name": "Python 3",
      "language": "python",
      "name": "python3"
    },
    "language_info": {
      "name": ""
    }
  },
  "cells": [
    {
      "cell_type": "code",
      "metadata": {
        "id": "jGKfaEUD3r9F"
      },
      "source": [
        "from IPython.core.interactiveshell import InteractiveShell\n",
        "InteractiveShell.ast_node_interactivity = \"all\""
      ],
      "execution_count": null,
      "outputs": []
    },
    {
      "cell_type": "code",
      "metadata": {
        "id": "9PfKgPyr4kLW"
      },
      "source": [
        "import os\n",
        "import json \n",
        "import tensorflow as tf\n",
        "from tensorflow.keras.preprocessing.image import ImageDataGenerator\n",
        "import numpy as np\n",
        "import pandas as pd\n",
        "from sklearn.model_selection import train_test_split\n",
        "from datetime import datetime\n",
        "\n",
        "SEED = 1234\n",
        "tf.random.set_seed(SEED)  \n",
        "\n",
        "# Get current working directory\n",
        "cwd = os.getcwd()"
      ],
      "execution_count": null,
      "outputs": []
    },
    {
      "cell_type": "code",
      "metadata": {
        "id": "lgSPHH61xN-V"
      },
      "source": [
        "def create_csv(results, results_dir='./'):\n",
        "\n",
        "    csv_fname = 'results_'\n",
        "    csv_fname += datetime.now().strftime('%b%d_%H-%M-%S') + '.csv'\n",
        "\n",
        "    with open(os.path.join(results_dir, csv_fname), 'w') as f:\n",
        "\n",
        "        f.write('Id,Category\\n')\n",
        "\n",
        "        for key, value in results.items():\n",
        "            f.write(key + ',' + str(value) + '\\n')\n"
      ],
      "execution_count": null,
      "outputs": []
    },
    {
      "cell_type": "code",
      "metadata": {
        "id": "--TnW3ZB9JvG"
      },
      "source": [
        "# Run this cell only if you are using Colab with Drive\n",
        "from google.colab import drive\n",
        "drive.mount('/content/drive')"
      ],
      "execution_count": null,
      "outputs": []
    },
    {
      "cell_type": "code",
      "metadata": {
        "id": "sM5u-Scr9UaF"
      },
      "source": [
        "# Run this cell only if you are using Colab with Drive\n",
        "!unzip '/content/drive/My Drive/DeepLearning/kaggle/data/artificial-neural-networks-and-deep-learning-2020.zip'"
      ],
      "execution_count": null,
      "outputs": []
    },
    {
      "cell_type": "code",
      "metadata": {
        "id": "GzUC1FpdIDRa"
      },
      "source": [
        "labels_dir = os.path.join(cwd, 'MaskDataset')\n",
        "training_dir = os.path.join(cwd, 'MaskDataset/training')\n",
        "\n",
        "bs = 8\n",
        "img_h = img_w = 256\n",
        "\n",
        "with open(os.path.join(labels_dir, \"train_gt.json\")) as f:\n",
        "  dic = json.load(f)\n",
        "labels = pd.DataFrame(dic.items())\n",
        "labels.rename(columns = {0:'filename', 1:'class'}, inplace = True)\n",
        "labels[\"class\"] = labels[\"class\"].astype(str)\n",
        "\n",
        "train_data_gen = ImageDataGenerator(rescale=1./255)\n",
        "train_generator = data_gen.flow_from_dataframe(labels,\n",
        "                                               training_dir,\n",
        "                                               batch_size=bs,\n",
        "                                               class_mode='categorical',\n",
        "                                               shuffle=True,\n",
        "                                               seed=SEED,\n",
        "                                               target_size=(img_h, img_w)\n",
        "                                               )\n",
        "\n"
      ],
      "execution_count": null,
      "outputs": []
    },
    {
      "cell_type": "code",
      "metadata": {
        "id": "XDyKOpN14Ndt"
      },
      "source": [
        "test_dir = os.path.join(cwd, 'MaskDataset/test')\n",
        "\n",
        "# same data generator as training set (normalization only)\n",
        "test_data_gen = ImageDataGenerator(rescale=1./255)\n",
        "test_generator = test_data_gen.flow_from_directory( test_dir,\n",
        "                                               batch_size=bs,\n",
        "                                               class_mode='categorical',\n",
        "                                               shuffle=True,\n",
        "                                               seed=SEED,\n",
        "                                               target_size=(img_h, img_w)\n",
        "                                               )"
      ],
      "execution_count": null,
      "outputs": []
    },
    {
      "cell_type": "code",
      "metadata": {
        "id": "jd0D3_gkbd5B"
      },
      "source": [
        "train_gen, valid_gen = train_test_split(train_generator, test_size=0.33, random_state=SEED)"
      ],
      "execution_count": null,
      "outputs": []
    },
    {
      "cell_type": "code",
      "metadata": {
        "id": "KeocnQ_WXRfH"
      },
      "source": [
        "num_classes = 3\n",
        "\n",
        "#img_h, img_w ??\n",
        "train_dataset = tf.data.Dataset.from_generator(lambda: train_gen,\n",
        "                                               output_types=(tf.float32, tf.float32),\n",
        "                                               output_shapes=([None, img_h, img_w, 3], [None, num_classes])\n",
        "                                               )\n",
        "train_dataset = train_dataset.repeat()\n",
        "\n",
        "valid_dataset = tf.data.Dataset.from_generator(lambda: valid_gen,\n",
        "                                               output_types=(tf.float32, tf.float32),\n",
        "                                               output_shapes=([None, img_h, img_w, 3], [None, num_classes])\n",
        "                                               )\n",
        "valid_dataset = valid_dataset.repeat()"
      ],
      "execution_count": null,
      "outputs": []
    },
    {
      "cell_type": "code",
      "metadata": {
        "id": "zh-8Es98Z8hQ"
      },
      "source": [
        "# Let's test data augmentation\n",
        "# ----------------------------\n",
        "import time\n",
        "import matplotlib.pyplot as plt\n",
        "\n",
        "%matplotlib inline\n",
        "    \n",
        "iterator = iter(train_dataset)"
      ],
      "execution_count": null,
      "outputs": []
    },
    {
      "cell_type": "code",
      "metadata": {
        "id": "Tdapk1QeaABH"
      },
      "source": [
        "augmented_img, target = next(iterator)\n",
        "augmented_img = np.array(augmented_img[0])   # First element\n",
        "augmented_img = augmented_img * 255  # denormalize\n",
        "   \n",
        "plt.imshow(np.uint8(augmented_img))\n",
        "# fig.canvas.draw()\n",
        "plt.plot()"
      ],
      "execution_count": null,
      "outputs": []
    },
    {
      "cell_type": "code",
      "metadata": {
        "id": "O_hJ4t7U7oYn"
      },
      "source": [
        "decide_class_indices = False\n",
        "if decide_class_indices:\n",
        "    classes = ['NO_MASK',     # 0 \n",
        "               'ALL_MASK',    # 1\n",
        "               'SOME_MASK']   # 2\n",
        "\n",
        "else:\n",
        "    classes=None"
      ],
      "execution_count": null,
      "outputs": []
    },
    {
      "cell_type": "code",
      "metadata": {
        "id": "BDB0RcLAYThu"
      },
      "source": [
        "# Check how keras assigned the labels\n",
        "train_generator.class_indices"
      ],
      "execution_count": null,
      "outputs": []
    },
    {
      "cell_type": "code",
      "metadata": {
        "id": "wMBM48Iq-QH9"
      },
      "source": [
        "# Architecture: Features extraction -> Classifier\n",
        "\n",
        "start_f = 8\n",
        "depth = 5\n",
        "\n",
        "model = tf.keras.Sequential()\n",
        "\n",
        "# Features extraction\n",
        "for i in range(depth):\n",
        "\n",
        "    if i == 0:\n",
        "        input_shape = [img_h, img_w, 3]\n",
        "    else:\n",
        "        input_shape=[None]\n",
        "\n",
        "    # Conv block: Conv2D -> Activation -> Pooling\n",
        "    model.add(tf.keras.layers.Conv2D(filters=start_f, \n",
        "                                     kernel_size=(3, 3),\n",
        "                                     strides=(1, 1),\n",
        "                                     padding='same',\n",
        "                                     input_shape=input_shape))\n",
        "    model.add(tf.keras.layers.ReLU())\n",
        "    model.add(tf.keras.layers.MaxPool2D(pool_size=(2, 2)))\n",
        "\n",
        "    start_f *= 2\n",
        "    \n",
        "# Classifier\n",
        "model.add(tf.keras.layers.Flatten())\n",
        "model.add(tf.keras.layers.Dense(units=512, activation='relu'))\n",
        "model.add(tf.keras.layers.Dense(units=num_classes, activation='softmax'))"
      ],
      "execution_count": null,
      "outputs": []
    },
    {
      "cell_type": "code",
      "metadata": {
        "id": "fIpaKm3AZvNK"
      },
      "source": [
        "# In this cell we create the same model of the cell before, but we implement it\n",
        "# by inheriting from tf.keras.Model. This is to provide you with an example of how\n",
        "# we can create customized models. DO NOT run this cell if you have already created \n",
        "# the model in the cell above.\n",
        "\n",
        "start_f = 8\n",
        "depth = 5\n",
        "\n",
        "# Create convolutional block\n",
        "class ConvBlock(tf.keras.Model):\n",
        "    def __init__(self, num_filters):\n",
        "        super(ConvBlock, self).__init__()\n",
        "        self.conv2d = tf.keras.layers.Conv2D(filters=num_filters,\n",
        "                                             kernel_size=(3, 3),\n",
        "                                             strides=(1, 1), \n",
        "                                             padding='same')\n",
        "        self.activation = tf.keras.layers.ReLU()  # we can specify the activation function directly in Conv2D\n",
        "        self.pooling = tf.keras.layers.MaxPool2D(pool_size=(2, 2))\n",
        "        \n",
        "    def call(self, inputs):\n",
        "        x = self.conv2d(inputs)\n",
        "        x = self.activation(x)\n",
        "        x = self.pooling(x)\n",
        "        return x\n",
        "\n",
        "class CNNClassifier(tf.keras.Model):\n",
        "    def __init__(self, depth, start_f, num_classes):\n",
        "        super(CNNClassifier, self).__init__()\n",
        "        \n",
        "        self.feature_extractor = tf.keras.Sequential()\n",
        "    \n",
        "        for i in range(depth):\n",
        "            self.feature_extractor.add(ConvBlock(num_filters=start_f))\n",
        "            start_f *= 2\n",
        "            \n",
        "        self.flatten = tf.keras.layers.Flatten()\n",
        "        self.classifier = tf.keras.Sequential()\n",
        "        self.classifier.add(tf.keras.layers.Dense(units=512, activation='relu'))\n",
        "        self.classifier.add(tf.keras.layers.Dense(units=num_classes, activation='softmax'))\n",
        "        \n",
        "    def call(self, inputs):\n",
        "        x = self.feature_extractor(inputs)\n",
        "        x = self.flatten(x)\n",
        "        x = self.classifier(x)\n",
        "        return x\n",
        "    \n",
        "# Create Model instance\n",
        "model = CNNClassifier(depth=depth,\n",
        "                      start_f=start_f,\n",
        "                      num_classes=num_classes)\n",
        "# Build Model (Required)\n",
        "model.build(input_shape=(None, img_h, img_w, 3))"
      ],
      "execution_count": null,
      "outputs": []
    },
    {
      "cell_type": "code",
      "metadata": {
        "id": "861CrLRO-Q6i"
      },
      "source": [
        "# Visualize created model as a table\n",
        "model.summary()\n",
        "\n",
        "# Visualize initialized weights\n",
        "model.weights"
      ],
      "execution_count": null,
      "outputs": []
    },
    {
      "cell_type": "code",
      "metadata": {
        "id": "k6fX2MeR-U48"
      },
      "source": [
        "# Optimization params\n",
        "# -------------------\n",
        "\n",
        "# Loss\n",
        "loss = tf.keras.losses.CategoricalCrossentropy()\n",
        "\n",
        "# learning rate\n",
        "lr = 1e-4\n",
        "optimizer = tf.keras.optimizers.Adam(learning_rate=lr)\n",
        "# -------------------\n",
        "\n",
        "# Validation metrics\n",
        "# ------------------\n",
        "\n",
        "metrics = ['accuracy']\n",
        "# ------------------\n",
        "\n",
        "# Compile Model\n",
        "model.compile(optimizer=optimizer, loss=loss, metrics=metrics)"
      ],
      "execution_count": null,
      "outputs": []
    },
    {
      "cell_type": "code",
      "metadata": {
        "id": "gpQajwkDHQfP"
      },
      "source": [
        "%load_ext tensorboard\n",
        "%tensorboard --logdir /content/drive/My\\ Drive/Keras3/classification_experiments/"
      ],
      "execution_count": null,
      "outputs": []
    },
    {
      "cell_type": "code",
      "metadata": {
        "id": "lzpRKbkJ-bea"
      },
      "source": [
        "import os\n",
        "from datetime import datetime\n",
        "\n",
        "\n",
        "cwd = os.getcwd()\n",
        "\n",
        "exps_dir = os.path.join('/content/drive/My Drive/Keras3/', 'classification_experiments')\n",
        "if not os.path.exists(exps_dir):\n",
        "    os.makedirs(exps_dir)\n",
        "\n",
        "now = datetime.now().strftime('%b%d_%H-%M-%S')\n",
        "\n",
        "model_name = 'CNN'\n",
        "\n",
        "exp_dir = os.path.join(exps_dir, model_name + '_' + str(now))\n",
        "if not os.path.exists(exp_dir):\n",
        "    os.makedirs(exp_dir)\n",
        "    \n",
        "callbacks = []\n",
        "\n",
        "# Model checkpoint\n",
        "# ----------------\n",
        "ckpt_dir = os.path.join(exp_dir, 'ckpts')\n",
        "if not os.path.exists(ckpt_dir):\n",
        "    os.makedirs(ckpt_dir)\n",
        "\n",
        "ckpt_callback = tf.keras.callbacks.ModelCheckpoint(filepath=os.path.join(ckpt_dir, 'cp_{epoch:02d}.ckpt'), \n",
        "                                                   save_weights_only=True)  # False to save the model directly\n",
        "callbacks.append(ckpt_callback)\n",
        "\n",
        "# Visualize Learning on Tensorboard\n",
        "# ---------------------------------\n",
        "tb_dir = os.path.join(exp_dir, 'tb_logs')\n",
        "if not os.path.exists(tb_dir):\n",
        "    os.makedirs(tb_dir)\n",
        "    \n",
        "# By default shows losses and metrics for both training and validation\n",
        "tb_callback = tf.keras.callbacks.TensorBoard(log_dir=tb_dir,\n",
        "                                             profile_batch=0,\n",
        "                                             histogram_freq=1)  # if 1 shows weights histograms\n",
        "callbacks.append(tb_callback)\n",
        "\n",
        "# Early Stopping\n",
        "# --------------\n",
        "early_stop = True\n",
        "if early_stop:\n",
        "    es_callback = tf.keras.callbacks.EarlyStopping(monitor='val_loss', patience=5)\n",
        "    callbacks.append(es_callback)"
      ],
      "execution_count": null,
      "outputs": []
    },
    {
      "cell_type": "code",
      "metadata": {
        "id": "PchM96neeTy_"
      },
      "source": [
        "# Run this cell only if you want to plot the confusion matrix in tensorboard\n",
        "import io\n",
        "import matplotlib.pyplot as plt\n",
        "from sklearn.metrics import confusion_matrix, classification_report\n",
        "import seaborn as sns\n",
        "\n",
        "file_writer_cm = tf.summary.create_file_writer(tb_dir + '/cm')\n",
        "\n",
        "# Function to convert input figure to png tf image \n",
        "# (for plotting the confusion matrix in tensorboard)\n",
        "def plot_to_image(figure):\n",
        "  # Save the plot to a PNG in memory.\n",
        "  buf = io.BytesIO()\n",
        "  plt.savefig(buf, format='png')\n",
        "  # Closing the figure prevents it from being displayed directly inside\n",
        "  # the notebook.\n",
        "  plt.close(figure)\n",
        "  buf.seek(0)\n",
        "  # Convert PNG buffer to TF image\n",
        "  image = tf.image.decode_png(buf.getvalue(), channels=4)\n",
        "  # Add the batch dimension\n",
        "  image = tf.expand_dims(image, 0)\n",
        "  return image\n",
        "\n",
        "# Function to compute the confusion matrix (using sklearn) and to save it \n",
        "# in tensorboard\n",
        "def log_confusion_matrix(epoch, logs):\n",
        "  Y_prediction = model.predict_generator(valid_gen, len(valid_gen))\n",
        "  # Convert predictions classes to one hot vectors \n",
        "  Y_pred_classes = np.argmax(Y_prediction,axis = 1) \n",
        "  # Convert validation observations to one hot vectors\n",
        "  Y_true = valid_gen.classes\n",
        "  # compute the confusion matrix\n",
        "  confusion_mtx = confusion_matrix(Y_true, Y_pred_classes)\n",
        "  fig = plt.figure(figsize=(10,8))\n",
        "  sns.heatmap(confusion_mtx, annot=True, fmt=\"d\");\n",
        "  \n",
        "  cm_image = plot_to_image(fig)\n",
        "\n",
        "  with file_writer_cm.as_default():\n",
        "    tf.summary.image(\"Confusion Matrix\", cm_image, step=epoch)\n",
        "\n",
        "cm_callback = tf.keras.callbacks.LambdaCallback(on_epoch_end=log_confusion_matrix)\n",
        "callbacks.append(cm_callback)"
      ],
      "execution_count": null,
      "outputs": []
    },
    {
      "cell_type": "code",
      "metadata": {
        "id": "5b_KC7_6y0vl"
      },
      "source": [
        "model.fit(x=train_dataset,\n",
        "          epochs=10,  #### set repeat in training dataset\n",
        "          steps_per_epoch=len(train_gen),\n",
        "          validation_data=valid_dataset,\n",
        "          validation_steps=len(valid_gen), \n",
        "          #callbacks=callbacks\n",
        "          )\n",
        "\n",
        "# How to visualize Tensorboard\n",
        "\n",
        "# 1. tensorboard --logdir EXPERIMENTS_DIR --port PORT     <- from terminal\n",
        "# 2. localhost:PORT   <- in your browser"
      ],
      "execution_count": null,
      "outputs": []
    },
    {
      "cell_type": "code",
      "metadata": {
        "id": "BwU3QjaIxDlB"
      },
      "source": [
        ""
      ],
      "execution_count": null,
      "outputs": []
    },
    {
      "cell_type": "code",
      "metadata": {
        "id": "cV6B_vL-xFJl"
      },
      "source": [
        ""
      ],
      "execution_count": null,
      "outputs": []
    },
    {
      "cell_type": "code",
      "metadata": {
        "id": "qQ743X0Geu5v"
      },
      "source": [
        "# Let's visualize the activations of our network\n",
        "from PIL import Image\n",
        "\n",
        "test_iter = iter(valid_dataset)\n",
        "\n",
        "# Get a test image\n",
        "test_img = next(test_iter)[0]\n",
        "test_img = test_img[0]\n",
        "\n",
        "# Visualize the image\n",
        "Image.fromarray(np.uint8(np.array(test_img)*255.))"
      ],
      "execution_count": null,
      "outputs": []
    },
    {
      "cell_type": "code",
      "metadata": {
        "id": "-NRgCaAW08lm"
      },
      "source": [
        "test_dir = os.path.join(cwd, 'MaskDataset/test')\n",
        "image_filenames = next(os.walk(test_dir))[2]\n",
        "\n",
        "results = {}\n",
        "for image_name in image_filenames:\n",
        "\n",
        "   img = Image.open('.../test/img_name').convert('RGB')\n",
        "   img_array = np.array(img)\n",
        "   img_array = np.expand_dims(img_array, 0) \n",
        "   #....\n",
        "   data_normalization...\n",
        "   #....\n",
        "   prediction = argmax(softmax)   # predicted class\n",
        "   #.....\n",
        "   results[image_name] = prediction\n",
        "\n",
        "create_csv(results)\n"
      ],
      "execution_count": null,
      "outputs": []
    },
    {
      "cell_type": "code",
      "metadata": {
        "id": "qkN3FdfSCxHg"
      },
      "source": [
        "# Get the activations (the output of each ReLU layer)\n",
        "layer_outputs = [layer.output for layer in model.layers if isinstance(layer, tf.keras.layers.ReLU)]\n",
        "print(layer_outputs)\n",
        "# We can do it by creating a new model (activation_model) with model.input as input \n",
        "# and all the ReLU activations as output\n",
        "activation_model = tf.keras.Model(inputs=model.input, outputs=layer_outputs)\n",
        "# Finally we get the output values given the imput test image\n",
        "activations = activation_model.predict(tf.expand_dims(test_img, 0))"
      ],
      "execution_count": null,
      "outputs": []
    },
    {
      "cell_type": "code",
      "metadata": {
        "id": "trHP5tn5oTx6"
      },
      "source": [
        "# Use this instead of the previous cell if you have implemented the custom classes\n",
        "\n",
        "# Get the activations (the output of each ReLU layer in the feature_extractor)\n",
        "activations = []\n",
        "x = tf.expand_dims(test_img, 0)\n",
        "for conv_block in model.feature_extractor.layers:\n",
        "  for layer in conv_block.layers:\n",
        "    x = layer(x)\n",
        "    if isinstance(layer, tf.keras.layers.ReLU):\n",
        "      activations.append(x)"
      ],
      "execution_count": null,
      "outputs": []
    },
    {
      "cell_type": "code",
      "metadata": {
        "id": "NDXKiRsOCy7q"
      },
      "source": [
        "import matplotlib.pyplot as plt\n",
        "%matplotlib inline\n",
        "def display_activation(activations, act_index): \n",
        "    # activations: list of all the activations\n",
        "    # act_index: the layer we want to visualize (an int in [0, network depth) )\n",
        "    activation = activations[act_index]\n",
        "    activation = tf.image.resize(activation, size=[128, 128])\n",
        "    col_size = activations[0].shape[-1]\n",
        "    row_size = 1 + act_index\n",
        "    activation_index=0\n",
        "    fig, ax = plt.subplots(row_size, col_size, figsize=(8*2.5, 8*1.5), squeeze=False)\n",
        "    for row in range(0,row_size):\n",
        "        for col in range(0,col_size):\n",
        "            ax[row][col].imshow(activation[0, :, :, activation_index], cmap='gray')\n",
        "            activation_index += 1"
      ],
      "execution_count": null,
      "outputs": []
    },
    {
      "cell_type": "code",
      "metadata": {
        "id": "RoybzJdWgpvb"
      },
      "source": [
        "display_activation(activations, 1)"
      ],
      "execution_count": null,
      "outputs": []
    },
    {
      "cell_type": "code",
      "metadata": {
        "id": "tzak6UyO_4Jb"
      },
      "source": [
        "# Print Confusion Matrix and Classification Report (Precision, Recall, and F1-score)\n",
        "from sklearn.metrics import confusion_matrix, classification_report\n",
        "import seaborn as sns\n",
        "\n",
        "Y_prediction = model.predict_generator(valid_gen, len(valid_gen))\n",
        "# Convert predictions classes to one hot vectors \n",
        "Y_pred_classes = np.argmax(Y_prediction,axis = 1) \n",
        "# Convert validation observations to one hot vectors\n",
        "Y_true = valid_gen.classes\n",
        "# compute the confusion matrix\n",
        "confusion_mtx = confusion_matrix(Y_true, Y_pred_classes)\n",
        "class_report = classification_report(Y_true, Y_pred_classes, \n",
        "                                     target_names=valid_gen.class_indices.keys())  # target_names must be ordered depending on the class labels\n",
        "print('Confusion Matrix:')\n",
        "print(confusion_mtx)\n",
        "print()\n",
        "print('Classification Report:')\n",
        "print(class_report)"
      ],
      "execution_count": null,
      "outputs": []
    },
    {
      "cell_type": "code",
      "metadata": {
        "id": "mLy0-hpxuf6_"
      },
      "source": [
        ""
      ],
      "execution_count": null,
      "outputs": []
    }
  ]
}